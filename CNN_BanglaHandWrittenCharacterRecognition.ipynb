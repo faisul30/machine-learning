{
  "nbformat": 4,
  "nbformat_minor": 0,
  "metadata": {
    "kernelspec": {
      "display_name": "Python 3",
      "language": "python",
      "name": "python3"
    },
    "language_info": {
      "codemirror_mode": {
        "name": "ipython",
        "version": 3
      },
      "file_extension": ".py",
      "mimetype": "text/x-python",
      "name": "python",
      "nbconvert_exporter": "python",
      "pygments_lexer": "ipython3",
      "version": "3.7.9"
    },
    "colab": {
      "name": "CNN_BanglaHandWrittenCharacterRecognition.ipynb",
      "provenance": [],
      "collapsed_sections": []
    },
    "accelerator": "GPU"
  },
  "cells": [
    {
      "cell_type": "code",
      "metadata": {
        "colab": {
          "base_uri": "https://localhost:8080/"
        },
        "id": "0ycNdWhSqgeB",
        "outputId": "20d3918d-0577-401a-ee16-ddee36f04e55"
      },
      "source": [
        "from google.colab import drive\n",
        "drive.mount('/content/drive')"
      ],
      "execution_count": 4,
      "outputs": [
        {
          "output_type": "stream",
          "text": [
            "Drive already mounted at /content/drive; to attempt to forcibly remount, call drive.mount(\"/content/drive\", force_remount=True).\n"
          ],
          "name": "stdout"
        }
      ]
    },
    {
      "cell_type": "markdown",
      "metadata": {
        "id": "yin4pHeMfpvh"
      },
      "source": [
        "This is the notebook you have seen in the overview video."
      ]
    },
    {
      "cell_type": "markdown",
      "metadata": {
        "id": "XciIesbnfpvk"
      },
      "source": [
        "## Creating the CNN model"
      ]
    },
    {
      "cell_type": "code",
      "metadata": {
        "id": "kpf4Drntfpvn"
      },
      "source": [
        "from keras.models import Sequential\n",
        "from keras.layers import Conv2D, MaxPooling2D, Flatten, Dense, Dropout"
      ],
      "execution_count": 1,
      "outputs": []
    },
    {
      "cell_type": "code",
      "metadata": {
        "id": "LOrnAIs4fdcD"
      },
      "source": [
        ""
      ],
      "execution_count": 1,
      "outputs": []
    },
    {
      "cell_type": "code",
      "metadata": {
        "id": "_wauI-U5fpvo"
      },
      "source": [
        "classifier = Sequential()\n",
        "\n",
        "classifier.add(Conv2D(filters = 128, kernel_size = (3, 3), activation = 'relu', input_shape = (40, 40, 3)))\n",
        "classifier.add(MaxPooling2D(pool_size = (2, 2)))\n",
        "classifier.add(Dropout(.2))\n",
        "\n",
        "classifier.add(Conv2D(filters = 64, kernel_size = (3, 3), activation = 'relu'))\n",
        "classifier.add(MaxPooling2D(pool_size = (2, 2)))\n",
        "classifier.add(Dropout(.2))\n",
        "\n",
        "classifier.add(Flatten())\n",
        "\n",
        "classifier.add(Dense(units = 128, activation = 'relu'))\n",
        "classifier.add(Dropout(.2))\n",
        "\n",
        "classifier.add(Dense(units = 50, activation = 'softmax'))\n",
        "\n",
        "classifier.compile(optimizer = 'adam', loss = 'categorical_crossentropy', metrics = ['accuracy'])"
      ],
      "execution_count": 2,
      "outputs": []
    },
    {
      "cell_type": "code",
      "metadata": {
        "id": "qRIDFq8Qfpvs",
        "colab": {
          "base_uri": "https://localhost:8080/"
        },
        "outputId": "80fb0bbd-264b-4e7e-f8cc-59d3f7c3c1cb"
      },
      "source": [
        "classifier.summary()"
      ],
      "execution_count": 9,
      "outputs": [
        {
          "output_type": "stream",
          "text": [
            "Model: \"sequential\"\n",
            "_________________________________________________________________\n",
            "Layer (type)                 Output Shape              Param #   \n",
            "=================================================================\n",
            "conv2d (Conv2D)              (None, 38, 38, 128)       3584      \n",
            "_________________________________________________________________\n",
            "max_pooling2d (MaxPooling2D) (None, 19, 19, 128)       0         \n",
            "_________________________________________________________________\n",
            "dropout (Dropout)            (None, 19, 19, 128)       0         \n",
            "_________________________________________________________________\n",
            "conv2d_1 (Conv2D)            (None, 17, 17, 64)        73792     \n",
            "_________________________________________________________________\n",
            "max_pooling2d_1 (MaxPooling2 (None, 8, 8, 64)          0         \n",
            "_________________________________________________________________\n",
            "dropout_1 (Dropout)          (None, 8, 8, 64)          0         \n",
            "_________________________________________________________________\n",
            "flatten (Flatten)            (None, 4096)              0         \n",
            "_________________________________________________________________\n",
            "dense (Dense)                (None, 128)               524416    \n",
            "_________________________________________________________________\n",
            "dropout_2 (Dropout)          (None, 128)               0         \n",
            "_________________________________________________________________\n",
            "dense_1 (Dense)              (None, 50)                6450      \n",
            "=================================================================\n",
            "Total params: 608,242\n",
            "Trainable params: 608,242\n",
            "Non-trainable params: 0\n",
            "_________________________________________________________________\n"
          ],
          "name": "stdout"
        }
      ]
    },
    {
      "cell_type": "markdown",
      "metadata": {
        "id": "M3ovy-Bufpvp"
      },
      "source": [
        "## Fitting the CNN model to the Dataset"
      ]
    },
    {
      "cell_type": "code",
      "metadata": {
        "id": "PyCAb5bMfpvq"
      },
      "source": [
        "from keras.preprocessing.image import ImageDataGenerator\n",
        "from PIL import ImageFile"
      ],
      "execution_count": 3,
      "outputs": []
    },
    {
      "cell_type": "code",
      "metadata": {
        "id": "rnrLn58Tfpvq",
        "colab": {
          "base_uri": "https://localhost:8080/"
        },
        "outputId": "df83bc0d-44b6-4035-ffa1-449e44a26452"
      },
      "source": [
        "ImageFile.LOAD_TRUNCATED_IMAGES = True\n",
        "\n",
        "train_datagen = ImageDataGenerator(rescale = 1./255, shear_range = .2, rotation_range = 25)\n",
        "test_datagen = ImageDataGenerator(rescale = 1./255)\n",
        "\n",
        "training_set = train_datagen.flow_from_directory('/content/drive/MyDrive/Colab Notebooks/Dataset/Train', target_size = (40, 40), \n",
        "                                                 batch_size = 32, class_mode = 'categorical')\n",
        "test_set = test_datagen.flow_from_directory('/content/drive/MyDrive/Colab Notebooks/Dataset/Test', target_size = (40, 40), \n",
        "                                                 batch_size = 32, class_mode = 'categorical')"
      ],
      "execution_count": 5,
      "outputs": [
        {
          "output_type": "stream",
          "text": [
            "Found 330 images belonging to 50 classes.\n",
            "Found 100 images belonging to 50 classes.\n"
          ],
          "name": "stdout"
        }
      ]
    },
    {
      "cell_type": "code",
      "metadata": {
        "scrolled": false,
        "id": "NWH07knZfpvr",
        "colab": {
          "base_uri": "https://localhost:8080/"
        },
        "outputId": "9b803b8e-38dd-408a-c3be-d0826fbc9891"
      },
      "source": [
        "history = classifier.fit_generator(training_set, epochs = 20,\n",
        "                        validation_data = test_set)"
      ],
      "execution_count": 6,
      "outputs": [
        {
          "output_type": "stream",
          "text": [
            "/usr/local/lib/python3.7/dist-packages/keras/engine/training.py:1915: UserWarning: `Model.fit_generator` is deprecated and will be removed in a future version. Please use `Model.fit`, which supports generators.\n",
            "  warnings.warn('`Model.fit_generator` is deprecated and '\n"
          ],
          "name": "stderr"
        },
        {
          "output_type": "stream",
          "text": [
            "Epoch 1/20\n",
            "11/11 [==============================] - 15s 121ms/step - loss: 2.3554 - accuracy: 0.4681 - val_loss: 7.0779 - val_accuracy: 0.0000e+00\n",
            "Epoch 2/20\n",
            "11/11 [==============================] - 1s 72ms/step - loss: 0.7486 - accuracy: 0.6948 - val_loss: 6.3017 - val_accuracy: 0.0000e+00\n",
            "Epoch 3/20\n",
            "11/11 [==============================] - 1s 67ms/step - loss: 0.5339 - accuracy: 0.7535 - val_loss: 9.1433 - val_accuracy: 0.0000e+00\n",
            "Epoch 4/20\n",
            "11/11 [==============================] - 1s 75ms/step - loss: 0.3383 - accuracy: 0.8715 - val_loss: 12.1707 - val_accuracy: 0.0000e+00\n",
            "Epoch 5/20\n",
            "11/11 [==============================] - 1s 76ms/step - loss: 0.2183 - accuracy: 0.9363 - val_loss: 12.0285 - val_accuracy: 0.0000e+00\n",
            "Epoch 6/20\n",
            "11/11 [==============================] - 1s 65ms/step - loss: 0.1147 - accuracy: 0.9598 - val_loss: 14.1955 - val_accuracy: 0.0000e+00\n",
            "Epoch 7/20\n",
            "11/11 [==============================] - 1s 66ms/step - loss: 0.0474 - accuracy: 0.9862 - val_loss: 15.2199 - val_accuracy: 0.0000e+00\n",
            "Epoch 8/20\n",
            "11/11 [==============================] - 1s 64ms/step - loss: 0.0766 - accuracy: 0.9708 - val_loss: 15.8369 - val_accuracy: 0.0000e+00\n",
            "Epoch 9/20\n",
            "11/11 [==============================] - 1s 66ms/step - loss: 0.0529 - accuracy: 0.9820 - val_loss: 16.3505 - val_accuracy: 0.0000e+00\n",
            "Epoch 10/20\n",
            "11/11 [==============================] - 1s 66ms/step - loss: 0.0711 - accuracy: 0.9752 - val_loss: 18.5586 - val_accuracy: 0.0000e+00\n",
            "Epoch 11/20\n",
            "11/11 [==============================] - 1s 67ms/step - loss: 0.0232 - accuracy: 0.9917 - val_loss: 16.3605 - val_accuracy: 0.0000e+00\n",
            "Epoch 12/20\n",
            "11/11 [==============================] - 1s 63ms/step - loss: 0.0281 - accuracy: 0.9981 - val_loss: 19.9020 - val_accuracy: 0.0000e+00\n",
            "Epoch 13/20\n",
            "11/11 [==============================] - 1s 65ms/step - loss: 0.0313 - accuracy: 0.9854 - val_loss: 19.9012 - val_accuracy: 0.0000e+00\n",
            "Epoch 14/20\n",
            "11/11 [==============================] - 1s 65ms/step - loss: 0.0065 - accuracy: 1.0000 - val_loss: 23.9600 - val_accuracy: 0.0000e+00\n",
            "Epoch 15/20\n",
            "11/11 [==============================] - 1s 65ms/step - loss: 0.0167 - accuracy: 0.9953 - val_loss: 23.4668 - val_accuracy: 0.0000e+00\n",
            "Epoch 16/20\n",
            "11/11 [==============================] - 1s 63ms/step - loss: 0.0106 - accuracy: 0.9954 - val_loss: 24.1658 - val_accuracy: 0.0000e+00\n",
            "Epoch 17/20\n",
            "11/11 [==============================] - 1s 70ms/step - loss: 0.0147 - accuracy: 1.0000 - val_loss: 22.1931 - val_accuracy: 0.0000e+00\n",
            "Epoch 18/20\n",
            "11/11 [==============================] - 1s 65ms/step - loss: 0.0084 - accuracy: 0.9944 - val_loss: 23.7547 - val_accuracy: 0.0000e+00\n",
            "Epoch 19/20\n",
            "11/11 [==============================] - 1s 64ms/step - loss: 0.0137 - accuracy: 0.9910 - val_loss: 23.7131 - val_accuracy: 0.0000e+00\n",
            "Epoch 20/20\n",
            "11/11 [==============================] - 1s 65ms/step - loss: 0.0147 - accuracy: 0.9961 - val_loss: 23.9114 - val_accuracy: 0.0000e+00\n"
          ],
          "name": "stdout"
        }
      ]
    },
    {
      "cell_type": "code",
      "metadata": {
        "id": "eSb260VTEv0c",
        "colab": {
          "base_uri": "https://localhost:8080/",
          "height": 279
        },
        "outputId": "10648804-d9e7-40ba-f7ce-5b2ae0947283"
      },
      "source": [
        "import matplotlib.pyplot as plt\n",
        "\n",
        "def plot_graphs(history, string):\n",
        "\tplt.plot(history.history[string])\n",
        "\tplt.xlabel('Epochs')\n",
        "\tplt.ylabel(string)\n",
        "\tplt.show()\n",
        "\t\n",
        "plot_graphs(history, 'accuracy')"
      ],
      "execution_count": 7,
      "outputs": [
        {
          "output_type": "display_data",
          "data": {
            "image/png": "[encoded data removed]",
            "text/plain": [
              "<Figure size 432x288 with 1 Axes>"
            ]
          },
          "metadata": {
            "tags": [],
            "needs_background": "light"
          }
        }
      ]
    },
    {
      "cell_type": "code",
      "metadata": {
        "id": "DmchDa3qE8Li",
        "colab": {
          "base_uri": "https://localhost:8080/",
          "height": 280
        },
        "outputId": "7e0db2e9-4e2d-4732-d37d-38efcef22d69"
      },
      "source": [
        "import matplotlib.pyplot as plt\n",
        "\n",
        "def plot_graphs(history, string):\n",
        "\tplt.plot(history.history[string])\n",
        "\tplt.xlabel('Epochs')\n",
        "\tplt.ylabel(string)\n",
        "\tplt.show()\n",
        "\t\n",
        "plot_graphs(history, 'loss')"
      ],
      "execution_count": 8,
      "outputs": [
        {
          "output_type": "display_data",
          "data": {
            "image/png": "[encoded data removed]",
            "text/plain": [
              "<Figure size 432x288 with 1 Axes>"
            ]
          },
          "metadata": {
            "tags": [],
            "needs_background": "light"
          }
        }
      ]
    },
    {
      "cell_type": "markdown",
      "metadata": {
        "id": "2ouxLYXnfpvt"
      },
      "source": [
        "## Saving the model"
      ]
    },
    {
      "cell_type": "code",
      "metadata": {
        "scrolled": true,
        "id": "De4W08tDfpvt",
        "colab": {
          "base_uri": "https://localhost:8080/"
        },
        "outputId": "6f815efb-b6cd-4dfb-cc31-34a56880f648"
      },
      "source": [
        "classifier_json = classifier.to_json()\n",
        "\n",
        "with open(\"CNN_BanglaHandWrittenCharacterRecognition.json\", \"w\") as json_file:\n",
        "    json_file.write(classifier_json)\n",
        "    \n",
        "classifier.save_weights(\"CNN_BanglaHandWrittenCharacterRecognition.h5\")\n",
        "print('Saved model to disk')"
      ],
      "execution_count": 11,
      "outputs": [
        {
          "output_type": "stream",
          "text": [
            "Saved model to disk\n"
          ],
          "name": "stdout"
        }
      ]
    },
    {
      "cell_type": "markdown",
      "metadata": {
        "id": "rikUcRpwfpvu"
      },
      "source": [
        "## Creating a graphical user interface to draw the character"
      ]
    },
    {
      "cell_type": "code",
      "metadata": {
        "id": "v5BvowIzfpvu"
      },
      "source": [
        "import PIL\n",
        "from PIL import ImageTk, ImageDraw, Image\n",
        "\n",
        "from keras.preprocessing import image\n",
        "import os"
      ],
      "execution_count": 12,
      "outputs": []
    },
    {
      "cell_type": "code",
      "metadata": {
        "id": "_ka75Y4Gfpvv"
      },
      "source": [
        "from tkinter import *\n",
        "def create_new_image():\n",
        "    width = 256\n",
        "    height = 256\n",
        "    center = height // 2\n",
        "    white = (255, 255, 255)\n",
        "    green = (0, 128, 0)\n",
        "    \n",
        "    def save():\n",
        "        filename = 'F:/Bangla-Handwritten-Character-Recognition-main/Dataset/SinglePrediction/image.jpg'\n",
        "        image.save(filename)\n",
        "        \n",
        "    def paint(event):\n",
        "        x1, y1 = (event.x - 1), (event.y - 1)\n",
        "        x2, y2 = (event.x + 1), (event.y + 1)\n",
        "        cv.create_oval(x1, y1, x2, y2, fill = 'black', width = 30)\n",
        "        draw.line([x1, y1, x2, y2], fill = 'black', width = 30)\n",
        "        \n",
        "    root = Tk() \n",
        "    \n",
        "    cv = Canvas(root, width = width, height = height, bg = 'white')\n",
        "    cv.pack()\n",
        "    \n",
        "    image = PIL.Image.new('RGB', (width, height), white)\n",
        "    draw = ImageDraw.Draw(image)\n",
        "    \n",
        "    cv.pack(expand = YES, fill = BOTH)\n",
        "    cv.bind(\"<B1-Motion>\", paint)\n",
        "    \n",
        "    button = Button(text = 'Save', command = save)\n",
        "    button.pack()\n",
        "    \n",
        "    root.mainloop()"
      ],
      "execution_count": 13,
      "outputs": []
    },
    {
      "cell_type": "code",
      "metadata": {
        "id": "hKoFv8BYfR7m",
        "colab": {
          "base_uri": "https://localhost:8080/"
        },
        "outputId": "9d38b8c2-9faa-49b3-b632-22cf34160c38"
      },
      "source": [
        "training_set.class_indices"
      ],
      "execution_count": 14,
      "outputs": [
        {
          "output_type": "execute_result",
          "data": {
            "text/plain": [
              "{'172': 0,\n",
              " '173': 1,\n",
              " '174': 2,\n",
              " '175': 3,\n",
              " '176': 4,\n",
              " '177': 5,\n",
              " '178': 6,\n",
              " '179': 7,\n",
              " '180': 8,\n",
              " '181': 9,\n",
              " '182': 10,\n",
              " '183': 11,\n",
              " '184': 12,\n",
              " '185': 13,\n",
              " '186': 14,\n",
              " '187': 15,\n",
              " '188': 16,\n",
              " '189': 17,\n",
              " '190': 18,\n",
              " '191': 19,\n",
              " '192': 20,\n",
              " '193': 21,\n",
              " '194': 22,\n",
              " '195': 23,\n",
              " '196': 24,\n",
              " '197': 25,\n",
              " '198': 26,\n",
              " '199': 27,\n",
              " '200': 28,\n",
              " '201': 29,\n",
              " '202': 30,\n",
              " '203': 31,\n",
              " '204': 32,\n",
              " '205': 33,\n",
              " '206': 34,\n",
              " '207': 35,\n",
              " '208': 36,\n",
              " '209': 37,\n",
              " '210': 38,\n",
              " '211': 39,\n",
              " '212': 40,\n",
              " '213': 41,\n",
              " '214': 42,\n",
              " '215': 43,\n",
              " '216': 44,\n",
              " '217': 45,\n",
              " '218': 46,\n",
              " '219': 47,\n",
              " '220': 48,\n",
              " '221': 49}"
            ]
          },
          "metadata": {
            "tags": []
          },
          "execution_count": 14
        }
      ]
    },
    {
      "cell_type": "code",
      "metadata": {
        "id": "6TVN4Cygfpvx"
      },
      "source": [
        "def determine_character(res):\n",
        "    if res == 0:\n",
        "        print('prediction : অ')\n",
        "    elif res == 1:\n",
        "        print('prediction : আ')\n",
        "    elif res == 2:\n",
        "        print('prediction : ই')\n",
        "    elif res == 3:\n",
        "        print('prediction : ঈ')\n",
        "    elif res == 4:\n",
        "        print('prediction : উ')\n",
        "    elif res == 5:\n",
        "        print('prediction : ঊ')\n",
        "    elif res == 6:\n",
        "        print('prediction : ঋ')\n",
        "    elif res == 7:\n",
        "        print('prediction : এ')\n",
        "    elif res == 8:\n",
        "        print('prediction : ঐ')\n",
        "    elif res == 9:\n",
        "        print('prediction : ও')\n",
        "    elif res == 10:\n",
        "        print('prediction : ঔ')\n",
        "    elif res == 11:\n",
        "        print('prediction : ক')\n",
        "    elif res == 12:\n",
        "        print('prediction : খ')\n",
        "    elif res == 13:\n",
        "        print('prediction : গ')\n",
        "    elif res == 14:\n",
        "        print('prediction : ঘ')\n",
        "    elif res == 15:\n",
        "        print('prediction : ঙ')\n",
        "    elif res == 16:\n",
        "        print('prediction : চ')\n",
        "    elif res == 17:\n",
        "        print('prediction : ছ')\n",
        "    elif res == 18:\n",
        "        print('prediction : জ')\n",
        "    elif res == 19:\n",
        "        print('prediction : ঝ')\n",
        "    elif res == 20:\n",
        "        print('prediction : ঞ')\n",
        "    elif res == 21:\n",
        "        print('prediction : ট')\n",
        "    elif res == 22:\n",
        "        print('prediction : ঠ')\n",
        "    elif res == 23:\n",
        "        print('prediction : ড')\n",
        "    elif res == 24:\n",
        "        print('prediction : ঢ')\n",
        "    elif res == 25:\n",
        "        print('prediction : ণ')\n",
        "    elif res == 26:\n",
        "        print('prediction : ত')\n",
        "    elif res == 27:\n",
        "        print('prediction : থ')\n",
        "    elif res == 28:\n",
        "        print('prediction : দ')\n",
        "    elif res == 29:\n",
        "        print('prediction : ধ')\n",
        "    elif res == 30:\n",
        "        print('prediction : ন')\n",
        "    elif res == 31:\n",
        "        print('prediction : প')\n",
        "    elif res == 32:\n",
        "        print('prediction : ফ')\n",
        "    elif res == 33:\n",
        "        print('prediction : ব')\n",
        "    elif res == 34:\n",
        "        print('prediction : ভ')\n",
        "    elif res == 35:\n",
        "        print('prediction : ম')\n",
        "    elif res == 36:\n",
        "        print('prediction : য')\n",
        "    elif res == 37:\n",
        "        print('prediction : র')\n",
        "    elif res == 38:\n",
        "        print('prediction : ল')\n",
        "    elif res == 39:\n",
        "        print('prediction : শ')\n",
        "    elif res == 40:\n",
        "        print('prediction : ষ')\n",
        "    elif res == 41:\n",
        "        print('prediction : স')\n",
        "    elif res == 42:\n",
        "        print('prediction : হ')\n",
        "    elif res == 43:\n",
        "        print('prediction : ড়')\n",
        "    elif res == 44:\n",
        "        print('prediction : ঢ়')\n",
        "    elif res == 45:\n",
        "        print('prediction : য়')\n",
        "    elif res == 46:\n",
        "        print('prediction : ৎ')\n",
        "    elif res == 47:\n",
        "        print('prediction : ং')\n",
        "    elif res == 48:\n",
        "        print('prediction : ঃ')\n",
        "    else:\n",
        "        print('prediction : ঁ')"
      ],
      "execution_count": 15,
      "outputs": []
    },
    {
      "cell_type": "code",
      "metadata": {
        "id": "U5fE_uRffpvz"
      },
      "source": [
        "import numpy as np\n",
        "\n",
        "def single_prediction(test_img):\n",
        "    test_img_arr = image.img_to_array(test_img)\n",
        "    test_img_arr = np.expand_dims(test_img_arr, axis = 0)\n",
        "    prediction = classifier.predict(test_img_arr)\n",
        "    result = np.argmax(prediction, axis = 1)\n",
        "    determine_character(result)"
      ],
      "execution_count": 16,
      "outputs": []
    },
    {
      "cell_type": "code",
      "metadata": {
        "id": "ZkaH4AnJfpv0"
      },
      "source": [
        "def delete_created_image():\n",
        "    os.remove('F:\\Bangla-Handwritten-Character-Recognition-main\\Dataset\\SinglePrediction\\image.jpg')"
      ],
      "execution_count": 17,
      "outputs": []
    },
    {
      "cell_type": "code",
      "metadata": {
        "id": "15UOxgJojUGC"
      },
      "source": [
        ""
      ],
      "execution_count": 17,
      "outputs": []
    },
    {
      "cell_type": "code",
      "metadata": {
        "id": "oM6m7dLyfpv1"
      },
      "source": [
        "import matplotlib.pyplot as plt\n",
        "\n",
        "def draw_n_guess_the_character():\n",
        "    create_new_image()\n",
        "    test_img = image.load_img('F:\\Bangla-Handwritten-Character-Recognition-main\\Dataset\\Test\\173\\image.jpg', target_size = (40, 40, 3))\n",
        "    single_prediction(test_img)\n",
        "    plt.imshow(test_img)\n",
        "    delete_created_image()"
      ],
      "execution_count": 18,
      "outputs": []
    },
    {
      "cell_type": "code",
      "metadata": {
        "id": "yQ2SMqdrfpv2",
        "colab": {
          "base_uri": "https://localhost:8080/",
          "height": 320
        },
        "outputId": "fe529574-0de0-458b-d9da-cc6b936bf5aa"
      },
      "source": [
        "draw_n_guess_the_character()"
      ],
      "execution_count": 19,
      "outputs": [
        {
          "output_type": "error",
          "ename": "TclError",
          "evalue": "ignored",
          "traceback": [
            "\u001b[0;31m---------------------------------------------------------------------------\u001b[0m",
            "\u001b[0;31mTclError\u001b[0m                                  Traceback (most recent call last)",
            "\u001b[0;32m<ipython-input-19-c4fd5c7114d4>\u001b[0m in \u001b[0;36m<module>\u001b[0;34m()\u001b[0m\n\u001b[0;32m----> 1\u001b[0;31m \u001b[0mdraw_n_guess_the_character\u001b[0m\u001b[0;34m(\u001b[0m\u001b[0;34m)\u001b[0m\u001b[0;34m\u001b[0m\u001b[0;34m\u001b[0m\u001b[0m\n\u001b[0m",
            "\u001b[0;32m<ipython-input-18-531b66a0f388>\u001b[0m in \u001b[0;36mdraw_n_guess_the_character\u001b[0;34m()\u001b[0m\n\u001b[1;32m      2\u001b[0m \u001b[0;34m\u001b[0m\u001b[0m\n\u001b[1;32m      3\u001b[0m \u001b[0;32mdef\u001b[0m \u001b[0mdraw_n_guess_the_character\u001b[0m\u001b[0;34m(\u001b[0m\u001b[0;34m)\u001b[0m\u001b[0;34m:\u001b[0m\u001b[0;34m\u001b[0m\u001b[0;34m\u001b[0m\u001b[0m\n\u001b[0;32m----> 4\u001b[0;31m     \u001b[0mcreate_new_image\u001b[0m\u001b[0;34m(\u001b[0m\u001b[0;34m)\u001b[0m\u001b[0;34m\u001b[0m\u001b[0;34m\u001b[0m\u001b[0m\n\u001b[0m\u001b[1;32m      5\u001b[0m     \u001b[0mtest_img\u001b[0m \u001b[0;34m=\u001b[0m \u001b[0mimage\u001b[0m\u001b[0;34m.\u001b[0m\u001b[0mload_img\u001b[0m\u001b[0;34m(\u001b[0m\u001b[0;34m'F:\\Bangla-Handwritten-Character-Recognition-main\\Dataset\\Test\\173\\image.jpg'\u001b[0m\u001b[0;34m,\u001b[0m \u001b[0mtarget_size\u001b[0m \u001b[0;34m=\u001b[0m \u001b[0;34m(\u001b[0m\u001b[0;36m40\u001b[0m\u001b[0;34m,\u001b[0m \u001b[0;36m40\u001b[0m\u001b[0;34m,\u001b[0m \u001b[0;36m3\u001b[0m\u001b[0;34m)\u001b[0m\u001b[0;34m)\u001b[0m\u001b[0;34m\u001b[0m\u001b[0;34m\u001b[0m\u001b[0m\n\u001b[1;32m      6\u001b[0m     \u001b[0msingle_prediction\u001b[0m\u001b[0;34m(\u001b[0m\u001b[0mtest_img\u001b[0m\u001b[0;34m)\u001b[0m\u001b[0;34m\u001b[0m\u001b[0;34m\u001b[0m\u001b[0m\n",
            "\u001b[0;32m<ipython-input-13-201c1ab6fdea>\u001b[0m in \u001b[0;36mcreate_new_image\u001b[0;34m()\u001b[0m\n\u001b[1;32m     17\u001b[0m         \u001b[0mdraw\u001b[0m\u001b[0;34m.\u001b[0m\u001b[0mline\u001b[0m\u001b[0;34m(\u001b[0m\u001b[0;34m[\u001b[0m\u001b[0mx1\u001b[0m\u001b[0;34m,\u001b[0m \u001b[0my1\u001b[0m\u001b[0;34m,\u001b[0m \u001b[0mx2\u001b[0m\u001b[0;34m,\u001b[0m \u001b[0my2\u001b[0m\u001b[0;34m]\u001b[0m\u001b[0;34m,\u001b[0m \u001b[0mfill\u001b[0m \u001b[0;34m=\u001b[0m \u001b[0;34m'black'\u001b[0m\u001b[0;34m,\u001b[0m \u001b[0mwidth\u001b[0m \u001b[0;34m=\u001b[0m \u001b[0;36m30\u001b[0m\u001b[0;34m)\u001b[0m\u001b[0;34m\u001b[0m\u001b[0;34m\u001b[0m\u001b[0m\n\u001b[1;32m     18\u001b[0m \u001b[0;34m\u001b[0m\u001b[0m\n\u001b[0;32m---> 19\u001b[0;31m     \u001b[0mroot\u001b[0m \u001b[0;34m=\u001b[0m \u001b[0mTk\u001b[0m\u001b[0;34m(\u001b[0m\u001b[0;34m)\u001b[0m\u001b[0;34m\u001b[0m\u001b[0;34m\u001b[0m\u001b[0m\n\u001b[0m\u001b[1;32m     20\u001b[0m \u001b[0;34m\u001b[0m\u001b[0m\n\u001b[1;32m     21\u001b[0m     \u001b[0mcv\u001b[0m \u001b[0;34m=\u001b[0m \u001b[0mCanvas\u001b[0m\u001b[0;34m(\u001b[0m\u001b[0mroot\u001b[0m\u001b[0;34m,\u001b[0m \u001b[0mwidth\u001b[0m \u001b[0;34m=\u001b[0m \u001b[0mwidth\u001b[0m\u001b[0;34m,\u001b[0m \u001b[0mheight\u001b[0m \u001b[0;34m=\u001b[0m \u001b[0mheight\u001b[0m\u001b[0;34m,\u001b[0m \u001b[0mbg\u001b[0m \u001b[0;34m=\u001b[0m \u001b[0;34m'white'\u001b[0m\u001b[0;34m)\u001b[0m\u001b[0;34m\u001b[0m\u001b[0;34m\u001b[0m\u001b[0m\n",
            "\u001b[0;32m/usr/lib/python3.7/tkinter/__init__.py\u001b[0m in \u001b[0;36m__init__\u001b[0;34m(self, screenName, baseName, className, useTk, sync, use)\u001b[0m\n\u001b[1;32m   2021\u001b[0m                 \u001b[0mbaseName\u001b[0m \u001b[0;34m=\u001b[0m \u001b[0mbaseName\u001b[0m \u001b[0;34m+\u001b[0m \u001b[0mext\u001b[0m\u001b[0;34m\u001b[0m\u001b[0;34m\u001b[0m\u001b[0m\n\u001b[1;32m   2022\u001b[0m         \u001b[0minteractive\u001b[0m \u001b[0;34m=\u001b[0m \u001b[0;36m0\u001b[0m\u001b[0;34m\u001b[0m\u001b[0;34m\u001b[0m\u001b[0m\n\u001b[0;32m-> 2023\u001b[0;31m         \u001b[0mself\u001b[0m\u001b[0;34m.\u001b[0m\u001b[0mtk\u001b[0m \u001b[0;34m=\u001b[0m \u001b[0m_tkinter\u001b[0m\u001b[0;34m.\u001b[0m\u001b[0mcreate\u001b[0m\u001b[0;34m(\u001b[0m\u001b[0mscreenName\u001b[0m\u001b[0;34m,\u001b[0m \u001b[0mbaseName\u001b[0m\u001b[0;34m,\u001b[0m \u001b[0mclassName\u001b[0m\u001b[0;34m,\u001b[0m \u001b[0minteractive\u001b[0m\u001b[0;34m,\u001b[0m \u001b[0mwantobjects\u001b[0m\u001b[0;34m,\u001b[0m \u001b[0museTk\u001b[0m\u001b[0;34m,\u001b[0m \u001b[0msync\u001b[0m\u001b[0;34m,\u001b[0m \u001b[0muse\u001b[0m\u001b[0;34m)\u001b[0m\u001b[0;34m\u001b[0m\u001b[0;34m\u001b[0m\u001b[0m\n\u001b[0m\u001b[1;32m   2024\u001b[0m         \u001b[0;32mif\u001b[0m \u001b[0museTk\u001b[0m\u001b[0;34m:\u001b[0m\u001b[0;34m\u001b[0m\u001b[0;34m\u001b[0m\u001b[0m\n\u001b[1;32m   2025\u001b[0m             \u001b[0mself\u001b[0m\u001b[0;34m.\u001b[0m\u001b[0m_loadtk\u001b[0m\u001b[0;34m(\u001b[0m\u001b[0;34m)\u001b[0m\u001b[0;34m\u001b[0m\u001b[0;34m\u001b[0m\u001b[0m\n",
            "\u001b[0;31mTclError\u001b[0m: no display name and no $DISPLAY environment variable"
          ]
        }
      ]
    }
  ]
}